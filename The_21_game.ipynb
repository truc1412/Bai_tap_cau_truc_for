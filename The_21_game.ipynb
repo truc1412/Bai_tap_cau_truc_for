{
 "cells": [
  {
   "cell_type": "code",
   "execution_count": 1,
   "id": "89d09fc8",
   "metadata": {},
   "outputs": [
    {
     "name": "stdout",
     "output_type": "stream",
     "text": [
      "The current number is 0\n",
      "The computer chose is 3\n",
      "The current number is 3\n",
      "The number will you add: 1\n",
      "The current number is 4\n",
      "The computer chose is 2\n",
      "The current number is 6\n",
      "The number will you add: 3\n",
      "The current number is 9\n",
      "The computer chose is 3\n",
      "The current number is 12\n",
      "The number will you add: 3\n",
      "The current number is 15\n",
      "The computer chose is 3\n",
      "The current number is 18\n",
      "The number will you add: 3\n",
      "The current number is 21\n",
      "Sorry you lose !!!\n",
      "Do you want to play again ?y\n",
      "The current number is 0\n",
      "The number will you add: 3\n",
      "The current number is 3\n",
      "The computer chose is 1\n",
      "The current number is 4\n",
      "The number will you add: 3\n",
      "The current number is 7\n",
      "The computer chose is 2\n",
      "The current number is 9\n",
      "The number will you add: 2\n",
      "The current number is 11\n",
      "The computer chose is 2\n",
      "The current number is 13\n",
      "The number will you add: 3\n",
      "The current number is 16\n",
      "The computer chose is 2\n",
      "The current number is 18\n",
      "The number will you add: 2\n",
      "The current number is 20\n",
      "The computer chose is 1\n",
      "The current number is 21\n",
      "You won !!!\n",
      "Do you want to play again ?n\n",
      "Goodbye\n"
     ]
    }
   ],
   "source": [
    "import random\n",
    "\n",
    "while True:\n",
    "    current_number=0\n",
    "    if random.randint(0,1) == 0:\n",
    "        current_player= \"human\"\n",
    "    else:\n",
    "        current_player= \"computer\"\n",
    "    while current_number <= 21:\n",
    "        print(f\"The current number is {current_number}\")\n",
    "        if current_player == \"human\":\n",
    "            player_choice=\"\"\n",
    "            while player_choice not in [\"1\",\"2\",\"3\"]:\n",
    "                player_choice=input(\"The number will you add: \")\n",
    "            player_choice = int(player_choice)\n",
    "            current_number= current_number + player_choice\n",
    "            if current_number >= 21:\n",
    "                print(f\"The current number is {current_number}\")\n",
    "                print(\"Sorry you lose !!!\")\n",
    "                break\n",
    "            current_player = \"computer\"\n",
    "        else:\n",
    "            computer_choice = random.randint(1,3)\n",
    "            current_number= current_number + computer_choice\n",
    "            print(f\"The computer chose is {computer_choice}\")\n",
    "            if current_number >= 21:\n",
    "                print(f\"The current number is {current_number}\")\n",
    "                print(\"You won !!!\") \n",
    "                break\n",
    "            current_player = \"human\"\n",
    "    play_again= input(\"Do you want to play again ? \")\n",
    "    if play_again.lower().startswith('y'):\n",
    "         continue\n",
    "    else:\n",
    "        print(\"Goodbye\")\n",
    "        break"
   ]
  },
  {
   "cell_type": "code",
   "execution_count": null,
   "id": "944d0505",
   "metadata": {},
   "outputs": [],
   "source": []
  }
 ],
 "metadata": {
  "kernelspec": {
   "display_name": "Python 3 (ipykernel)",
   "language": "python",
   "name": "python3"
  },
  "language_info": {
   "codemirror_mode": {
    "name": "ipython",
    "version": 3
   },
   "file_extension": ".py",
   "mimetype": "text/x-python",
   "name": "python",
   "nbconvert_exporter": "python",
   "pygments_lexer": "ipython3",
   "version": "3.9.13"
  }
 },
 "nbformat": 4,
 "nbformat_minor": 5
}
