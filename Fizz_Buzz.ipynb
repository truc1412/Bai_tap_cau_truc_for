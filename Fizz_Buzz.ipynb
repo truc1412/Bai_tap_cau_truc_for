{
 "cells": [
  {
   "cell_type": "code",
   "execution_count": 14,
   "id": "29efe03c",
   "metadata": {},
   "outputs": [
    {
     "name": "stdout",
     "output_type": "stream",
     "text": [
      "Nhập chuỗi số: 1 16\n",
      "1\n",
      "2\n",
      "3 Fizz\n",
      "4\n",
      "5 Buzz\n",
      "6 Fizz\n",
      "7\n",
      "8\n",
      "9 Fizz\n",
      "10 Buzz\n",
      "11\n",
      "12 Fizz\n",
      "13\n",
      "14\n",
      "15 FizzBuzz\n",
      "16\n"
     ]
    }
   ],
   "source": [
    "n=input(\"Nhập chuỗi số: \")\n",
    "x=n.split()\n",
    "a=int(x[0])\n",
    "b=int(x[1])\n",
    "if a > b: \n",
    "    print(\"Số cuối cần lớn hơn số đầu\")\n",
    "else:\n",
    "    for i in range(a,b+1):\n",
    "        if i%3==0 and i%5==0:\n",
    "            print(f\"{i} FizzBuzz\")\n",
    "        elif i%3 == 0:\n",
    "            print(f\"{i} Fizz\")\n",
    "        elif i%5==0:\n",
    "            print(f\"{i} Buzz\")\n",
    "        else:\n",
    "            print(i)"
   ]
  },
  {
   "cell_type": "code",
   "execution_count": null,
   "id": "bacd00b9",
   "metadata": {},
   "outputs": [],
   "source": []
  },
  {
   "cell_type": "code",
   "execution_count": null,
   "id": "55b291b4",
   "metadata": {},
   "outputs": [],
   "source": []
  }
 ],
 "metadata": {
  "kernelspec": {
   "display_name": "Python 3 (ipykernel)",
   "language": "python",
   "name": "python3"
  },
  "language_info": {
   "codemirror_mode": {
    "name": "ipython",
    "version": 3
   },
   "file_extension": ".py",
   "mimetype": "text/x-python",
   "name": "python",
   "nbconvert_exporter": "python",
   "pygments_lexer": "ipython3",
   "version": "3.9.13"
  }
 },
 "nbformat": 4,
 "nbformat_minor": 5
}
